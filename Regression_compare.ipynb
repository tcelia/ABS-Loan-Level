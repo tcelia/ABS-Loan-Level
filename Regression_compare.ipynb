{
  "nbformat": 4,
  "nbformat_minor": 0,
  "metadata": {
    "colab": {
      "name": "Regression compare.ipynb",
      "provenance": [],
      "collapsed_sections": [],
      "toc_visible": true,
      "authorship_tag": "ABX9TyPPXbSqztwmQnxPmOKfe6Qt",
      "include_colab_link": true
    },
    "kernelspec": {
      "name": "python3",
      "display_name": "Python 3"
    },
    "language_info": {
      "name": "python"
    }
  },
  "cells": [
    {
      "cell_type": "markdown",
      "metadata": {
        "id": "view-in-github",
        "colab_type": "text"
      },
      "source": [
        "<a href=\"https://colab.research.google.com/github/tcelia/ABS-Loan-Level/blob/main/Regression_compare.ipynb\" target=\"_parent\"><img src=\"https://colab.research.google.com/assets/colab-badge.svg\" alt=\"Open In Colab\"/></a>"
      ]
    },
    {
      "cell_type": "markdown",
      "metadata": {
        "id": "3OfTPB0yZceh"
      },
      "source": [
        "## Importing the Libraries"
      ]
    },
    {
      "cell_type": "code",
      "metadata": {
        "id": "KiflDG-GZWnp"
      },
      "source": [
        "import numpy as np\n",
        "import matplotlib.pyplot as plt\n",
        "import pandas as pd\n",
        "from sklearn.model_selection import train_test_split\n",
        "from sklearn.preprocessing import StandardScaler\n",
        "from sklearn.linear_model import LinearRegression\n",
        "from sklearn.preprocessing import PolynomialFeatures\n",
        "from sklearn.svm import SVR\n",
        "from sklearn.tree import DecisionTreeRegressor\n",
        "from sklearn.ensemble import RandomForestRegressor\n",
        "from sklearn.metrics import r2_score"
      ],
      "execution_count": 15,
      "outputs": []
    },
    {
      "cell_type": "markdown",
      "metadata": {
        "id": "w9uVzhFnZ2ZU"
      },
      "source": [
        "# Import the Data Set"
      ]
    },
    {
      "cell_type": "code",
      "metadata": {
        "id": "bcDzd-c9Z7fa"
      },
      "source": [
        "#assumes no categorical or missing data. Last column is dependent variable\n",
        "dataset = pd.read_csv('Data.csv')\n",
        "X = dataset.iloc[:, :-1].values\n",
        "y = dataset.iloc[:, -1].values\n",
        "y = y.reshape(len(y),1)"
      ],
      "execution_count": 16,
      "outputs": []
    },
    {
      "cell_type": "markdown",
      "metadata": {
        "id": "l4dRMUNwaAXF"
      },
      "source": [
        "# Split the Data in Testing and Training Set"
      ]
    },
    {
      "cell_type": "code",
      "metadata": {
        "id": "aK-fL5EXaAv7"
      },
      "source": [
        "X_train, X_test, y_train, y_test = train_test_split(X, y, test_size = 0.2, random_state = 0)\n"
      ],
      "execution_count": 17,
      "outputs": []
    },
    {
      "cell_type": "markdown",
      "metadata": {
        "id": "alzPhk6QdGZ4"
      },
      "source": [
        "# Feature Scaling"
      ]
    },
    {
      "cell_type": "code",
      "metadata": {
        "id": "ecLXd0LVdGJf"
      },
      "source": [
        "sc_X = StandardScaler()\n",
        "sc_y = StandardScaler()\n",
        "ScaleX_train = sc_X.fit_transform(X_train)\n",
        "Scaley_train = sc_y.fit_transform(y_train)"
      ],
      "execution_count": 18,
      "outputs": []
    },
    {
      "cell_type": "markdown",
      "metadata": {
        "id": "zzHWT5H7aNPI"
      },
      "source": [
        "# Training the models"
      ]
    },
    {
      "cell_type": "code",
      "metadata": {
        "colab": {
          "base_uri": "https://localhost:8080/"
        },
        "id": "Ssd78i0HaNm5",
        "outputId": "e08045e4-837b-4d80-f25c-b2599df2925d"
      },
      "source": [
        "#Multiple Linear\n",
        "MLregressor = LinearRegression()\n",
        "MLregressor.fit(X_train, y_train)\n",
        "\n",
        "#Polynomial\n",
        "poly_reg = PolynomialFeatures(degree = 4)\n",
        "X_poly = poly_reg.fit_transform(X_train)\n",
        "Polyregressor = LinearRegression()\n",
        "Polyregressor.fit(X_poly, y_train)\n",
        "\n",
        "#SVR\n",
        "SVRregressor = SVR(kernel = 'rbf')\n",
        "SVRregressor.fit(ScaleX_train, Scaley_train)\n",
        "\n",
        "#Decision Tree\n",
        "DTregressor = DecisionTreeRegressor(random_state = 0)\n",
        "DTregressor.fit(X_train, y_train)\n",
        "\n",
        "#Random Forest\n",
        "RFregressor = RandomForestRegressor(n_estimators = 10, random_state = 0)\n",
        "RFregressor.fit(X_train, y_train)"
      ],
      "execution_count": 19,
      "outputs": [
        {
          "output_type": "execute_result",
          "data": {
            "text/plain": [
              "RandomForestRegressor(random_state=0)"
            ]
          },
          "metadata": {
            "tags": []
          },
          "execution_count": 19
        }
      ]
    },
    {
      "cell_type": "markdown",
      "metadata": {
        "id": "KbiIHxodajbA"
      },
      "source": [
        "# Predicting the Results"
      ]
    },
    {
      "cell_type": "code",
      "metadata": {
        "id": "PdjxEZVzajri"
      },
      "source": [
        "MLy_pred = MLregressor.predict(X_test)\n",
        "Polyy_pred = Polyregressor.predict(poly_reg.transform(X_test))\n",
        "SVRy_pred = sc_y.inverse_transform(SVRregressor.predict(sc_X.transform(X_test)))\n",
        "DTy_pred = DTregressor.predict(X_test)\n",
        "RFy_pred = RFregressor.predict(X_test)"
      ],
      "execution_count": 20,
      "outputs": []
    },
    {
      "cell_type": "markdown",
      "metadata": {
        "id": "6rEAC3q-a6G4"
      },
      "source": [
        "# Comparing R squared"
      ]
    },
    {
      "cell_type": "code",
      "metadata": {
        "id": "YwMokCyya6dI"
      },
      "source": [
        "MLr2 = r2_score(y_test, MLy_pred)\n",
        "Polyr2 = r2_score(y_test, Polyy_pred)\n",
        "SVRr2 = r2_score(y_test, SVRy_pred)\n",
        "DTr2 =r2_score(y_test, DTy_pred)\n",
        "RFr2=r2_score(y_test, RFy_pred)\n"
      ],
      "execution_count": 21,
      "outputs": []
    },
    {
      "cell_type": "code",
      "metadata": {
        "colab": {
          "base_uri": "https://localhost:8080/"
        },
        "id": "_ChPFKS8gfOK",
        "outputId": "1570d003-68cb-477f-fb81-b0db0dc43d31"
      },
      "source": [
        "print(\"Multiple Linear Regression: \" + '%.4f'%MLr2)\n",
        "print(\"Polynomial Regression: \" + '%.4f'%Polyr2)\n",
        "print(\"Support Vector Regression: \" + '%.4f'%SVRr2)\n",
        "print(\"Decision Tree Regression: \" + '%.4f'%DTr2)\n",
        "print(\"Random Forest Regression: \" + '%.4f'%RFr2)"
      ],
      "execution_count": 22,
      "outputs": [
        {
          "output_type": "stream",
          "text": [
            "Multiple Linear Regression: 0.9325\n",
            "Polynomial Regression: 0.9458\n",
            "Support Vector Regression: 0.9481\n",
            "Decision Tree Regression: 0.9229\n",
            "Random Forest Regression: 0.9651\n"
          ],
          "name": "stdout"
        }
      ]
    },
    {
      "cell_type": "code",
      "metadata": {
        "id": "iuNaJHdbkhNt"
      },
      "source": [
        "#calcuate the adjusted r square?"
      ],
      "execution_count": 9,
      "outputs": []
    },
    {
      "cell_type": "code",
      "metadata": {
        "id": "uhEvsoMeh1-R"
      },
      "source": [
        "#you may need to install lazypredict\n",
        "#!pip install lazypredict"
      ],
      "execution_count": 10,
      "outputs": []
    },
    {
      "cell_type": "code",
      "metadata": {
        "colab": {
          "base_uri": "https://localhost:8080/"
        },
        "id": "Ho3gHC50gflk",
        "outputId": "e82ba21c-bf38-4546-e575-d6b06cd15e89"
      },
      "source": [
        "#lazyregressor\n",
        "from lazypredict.Supervised import LazyRegressor"
      ],
      "execution_count": 11,
      "outputs": [
        {
          "output_type": "stream",
          "text": [
            "/usr/local/lib/python3.7/dist-packages/sklearn/utils/deprecation.py:143: FutureWarning: The sklearn.utils.testing module is  deprecated in version 0.22 and will be removed in version 0.24. The corresponding classes / functions should instead be imported from sklearn.utils. Anything that cannot be imported from sklearn.utils is now part of the private API.\n",
            "  warnings.warn(message, FutureWarning)\n"
          ],
          "name": "stderr"
        }
      ]
    },
    {
      "cell_type": "code",
      "metadata": {
        "colab": {
          "base_uri": "https://localhost:8080/"
        },
        "id": "y62L1EY5jxKU",
        "outputId": "9cb4c0e5-4fed-435e-a5bd-55a0331806a4"
      },
      "source": [
        "LazyReg = LazyRegressor(ignore_warnings=False, custom_metric=None)\n",
        "models, predictions = LazyReg.fit(X_train, X_test, y_train, y_test)"
      ],
      "execution_count": 12,
      "outputs": [
        {
          "output_type": "stream",
          "text": [
            "100%|██████████| 42/42 [00:47<00:00,  1.13s/it]\n"
          ],
          "name": "stderr"
        }
      ]
    },
    {
      "cell_type": "code",
      "metadata": {
        "colab": {
          "base_uri": "https://localhost:8080/"
        },
        "id": "uesnIR2Hkpkd",
        "outputId": "04091fc7-bb12-49c8-ae37-88bb89d15856"
      },
      "source": [
        "print(models)"
      ],
      "execution_count": 14,
      "outputs": [
        {
          "output_type": "stream",
          "text": [
            "                               Adjusted R-Squared  R-Squared   RMSE  Time Taken\n",
            "Model                                                                          \n",
            "XGBRegressor                                 0.97       0.97   3.10        0.61\n",
            "RandomForestRegressor                        0.97       0.97   3.19        2.74\n",
            "HistGradientBoostingRegressor                0.96       0.96   3.22        0.54\n",
            "LGBMRegressor                                0.96       0.96   3.23        0.18\n",
            "ExtraTreesRegressor                          0.96       0.96   3.26        1.41\n",
            "BaggingRegressor                             0.96       0.96   3.30        0.31\n",
            "KNeighborsRegressor                          0.95       0.95   3.67        0.05\n",
            "GradientBoostingRegressor                    0.95       0.95   3.73        1.03\n",
            "NuSVR                                        0.94       0.94   4.08        3.56\n",
            "SVR                                          0.94       0.94   4.08        4.13\n",
            "PoissonRegressor                             0.93       0.93   4.38        0.03\n",
            "LassoCV                                      0.93       0.93   4.44        0.22\n",
            "TransformedTargetRegressor                   0.93       0.93   4.44        0.02\n",
            "OrthogonalMatchingPursuitCV                  0.93       0.93   4.44        0.04\n",
            "LinearRegression                             0.93       0.93   4.44        0.02\n",
            "LassoLarsIC                                  0.93       0.93   4.44        0.03\n",
            "LassoLarsCV                                  0.93       0.93   4.44        0.09\n",
            "Lars                                         0.93       0.93   4.44        0.03\n",
            "LarsCV                                       0.93       0.93   4.44        0.04\n",
            "RidgeCV                                      0.93       0.93   4.44        0.03\n",
            "BayesianRidge                                0.93       0.93   4.44        0.03\n",
            "Ridge                                        0.93       0.93   4.44        0.02\n",
            "SGDRegressor                                 0.93       0.93   4.44        0.05\n",
            "HuberRegressor                               0.93       0.93   4.45        0.11\n",
            "ElasticNetCV                                 0.93       0.93   4.47        0.25\n",
            "LinearSVR                                    0.93       0.93   4.48        0.03\n",
            "RANSACRegressor                              0.93       0.93   4.52        0.04\n",
            "MLPRegressor                                 0.92       0.92   4.80        9.10\n",
            "DecisionTreeRegressor                        0.92       0.92   4.82        0.09\n",
            "ExtraTreeRegressor                           0.92       0.92   4.85        0.09\n",
            "Lasso                                        0.92       0.92   4.92        0.03\n",
            "OrthogonalMatchingPursuit                    0.90       0.90   5.27        0.02\n",
            "AdaBoostRegressor                            0.90       0.90   5.33        0.27\n",
            "PassiveAggressiveRegressor                   0.89       0.89   5.60        0.04\n",
            "ElasticNet                                   0.86       0.86   6.38        0.02\n",
            "GammaRegressor                               0.81       0.81   7.52        0.03\n",
            "GeneralizedLinearRegressor                   0.81       0.81   7.52        0.03\n",
            "TweedieRegressor                             0.81       0.81   7.52        0.03\n",
            "DummyRegressor                              -0.00      -0.00  17.11        0.03\n",
            "LassoLars                                   -0.00      -0.00  17.11        0.04\n",
            "GaussianProcessRegressor                    -9.06      -9.04  54.19       14.32\n",
            "KernelRidge                               -706.25    -704.77 454.34        7.52\n"
          ],
          "name": "stdout"
        }
      ]
    }
  ]
}